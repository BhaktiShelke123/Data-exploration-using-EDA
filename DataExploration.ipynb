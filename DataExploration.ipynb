{
  "metadata": {
    "kernelspec": {
      "name": "python",
      "display_name": "Python (Pyodide)",
      "language": "python"
    },
    "language_info": {
      "codemirror_mode": {
        "name": "python",
        "version": 3
      },
      "file_extension": ".py",
      "mimetype": "text/x-python",
      "name": "python",
      "nbconvert_exporter": "python",
      "pygments_lexer": "ipython3",
      "version": "3.8"
    }
  },
  "nbformat_minor": 4,
  "nbformat": 4,
  "cells": [
    {
      "cell_type": "code",
      "source": "# Define variables with numbers\none = 1\ntwo = 2\nthree = 3\nfour = 4\n\n# Define variables with strings (remove unnecessary quotes)\ncan = can\ndo = do\npython = python\nmore = more\n\n# Combine variables using string concatenation\noutput_string = str(one) + \" \" + str(two) + \" \" + str(three) + \" \" + str(four) + \" \" + can + \" \" + do + \" \" + python + \" \" + more\n\n# Print the output\nprint(output_string)\n",
      "metadata": {
        "trusted": true
      },
      "outputs": [
        {
          "ename": "<class 'NameError'>",
          "evalue": "name 'can' is not defined",
          "traceback": [
            "\u001b[0;31m---------------------------------------------------------------------------\u001b[0m",
            "\u001b[0;31mNameError\u001b[0m                                 Traceback (most recent call last)",
            "Cell \u001b[0;32mIn[1], line 8\u001b[0m\n\u001b[1;32m      5\u001b[0m four \u001b[38;5;241m=\u001b[39m \u001b[38;5;241m4\u001b[39m\n\u001b[1;32m      7\u001b[0m \u001b[38;5;66;03m# Define variables with strings (remove unnecessary quotes)\u001b[39;00m\n\u001b[0;32m----> 8\u001b[0m can \u001b[38;5;241m=\u001b[39m \u001b[43mcan\u001b[49m\n\u001b[1;32m      9\u001b[0m do \u001b[38;5;241m=\u001b[39m do\n\u001b[1;32m     10\u001b[0m python \u001b[38;5;241m=\u001b[39m python\n",
            "\u001b[0;31mNameError\u001b[0m: name 'can' is not defined"
          ],
          "output_type": "error"
        }
      ],
      "execution_count": 1
    },
    {
      "cell_type": "code",
      "source": "# Define variables with numbers\nnumber1 = 15\nnumber2 = 30\n\n# Perform multiplication using the asterisk (*) operator\nresult = number1 * number2\n\n# Print the result with a message\nprint(\"The result is\", result)\n",
      "metadata": {
        "trusted": true
      },
      "outputs": [
        {
          "name": "stdout",
          "text": "The result is 450\n",
          "output_type": "stream"
        }
      ],
      "execution_count": 2
    },
    {
      "cell_type": "code",
      "source": "def check_first_last(numbers):\n  \"\"\"\n  This function checks if the first and last element of a list are the same.\n\n  Args:\n      numbers: A list of numbers.\n\n  Returns:\n      True if the first and last element are the same, False otherwise.\n  \"\"\"\n  if len(numbers) > 0:\n    return numbers[0] == numbers[-1]\n  else:\n    return False\n\n# Sample usage\nnumbers_x = [10, 20, 30, 40, 10]\nnumbers_y = [75, 65, 35, 75, 30]\n\nprint(\"Given list:\", numbers_x)\nprint(\"result is\", check_first_last(numbers_x))\n\nprint(\"Given list:\", numbers_y)\nprint(\"result is\", check_first_last(numbers_y))\n",
      "metadata": {
        "trusted": true
      },
      "outputs": [
        {
          "name": "stdout",
          "text": "Given list: [10, 20, 30, 40, 10]\nresult is True\nGiven list: [75, 65, 35, 75, 30]\nresult is False\n",
          "output_type": "stream"
        }
      ],
      "execution_count": 3
    },
    {
      "cell_type": "code",
      "source": "# Define the list of numbers\nnumbers = [10, 20, 33, 46, 55]\n\nprint(\"Given list is\", numbers)\nprint(\"Divisible by 5:\")\n\n# Iterate through the list\nfor number in numbers:\n  # Check if the number is divisible by 5 using the modulo operator (%)\n  if number % 5 == 0:\n    print(number)\n",
      "metadata": {
        "trusted": true
      },
      "outputs": [
        {
          "name": "stdout",
          "text": "Given list is [10, 20, 33, 46, 55]\nDivisible by 5:\n10\n20\n55\n",
          "output_type": "stream"
        }
      ],
      "execution_count": 4
    },
    {
      "cell_type": "code",
      "source": "def count_substring(text, substring):\n  \"\"\"\n  This function counts the number of times a substring appears in a given text.\n\n  Args:\n      text: The text to search.\n      substring: The substring to count.\n\n  Returns:\n      The number of times the substring appears in the text.\n  \"\"\"\n  count = 0\n  # Iterate through the text with a sliding window of length equal to the substring length\n  for i in range(len(text) - len(substring) + 1):\n    # Check if the current substring matches the target substring\n    if text[i:i + len(substring)] == substring:\n      count += 1\n\n  return count\n\n# Sample usage\nstr_x = \"Anjali is good developer. Anjali is a writer\"\nsubstring = \"Anjali\"\n\n# Call the function and print the result\nresult = count_substring(str_x, substring)\nprint(\"Anjali appeared\", result, \"times\")\n",
      "metadata": {
        "trusted": true
      },
      "outputs": [
        {
          "name": "stdout",
          "text": "Anjali appeared 2 times\n",
          "output_type": "stream"
        }
      ],
      "execution_count": 5
    },
    {
      "cell_type": "code",
      "source": "# Define the number of rows\nrows = 5\n\n# Loop through each row\nfor i in range(1, rows + 1):\n  # Print the current number i times\n  for j in range(i):\n    print(i, end=\" \")\n  # Move to a new line after each row\n  print()\n",
      "metadata": {
        "trusted": true
      },
      "outputs": [
        {
          "name": "stdout",
          "text": "1 \n2 2 \n3 3 3 \n4 4 4 4 \n5 5 5 5 5 \n",
          "output_type": "stream"
        }
      ],
      "execution_count": 6
    },
    {
      "cell_type": "code",
      "source": "# Define the starting and ending numbers for the multiplication table\nstart_num = 1\nend_num = 10\n\n# Loop through each row (multiplier)\nfor i in range(start_num, end_num + 1):\n  # Print the current row label (multiplier)\n  print(i, end=\" \")\n\n  # Loop through each column (multiplicand)\n  for j in range(start_num, end_num + 1):\n    # Calculate the product and print it with a space\n    product = i * j\n    print(product, end=\" \")\n\n  # Move to a new line after each row\n  print()\n",
      "metadata": {
        "trusted": true
      },
      "outputs": [
        {
          "name": "stdout",
          "text": "1 1 2 3 4 5 6 7 8 9 10 \n2 2 4 6 8 10 12 14 16 18 20 \n3 3 6 9 12 15 18 21 24 27 30 \n4 4 8 12 16 20 24 28 32 36 40 \n5 5 10 15 20 25 30 35 40 45 50 \n6 6 12 18 24 30 36 42 48 54 60 \n7 7 14 21 28 35 42 49 56 63 70 \n8 8 16 24 32 40 48 56 64 72 80 \n9 9 18 27 36 45 54 63 72 81 90 \n10 10 20 30 40 50 60 70 80 90 100 \n",
          "output_type": "stream"
        }
      ],
      "execution_count": 7
    },
    {
      "cell_type": "code",
      "source": "import numpy as np\n\n# Define the list of temperatures in Kelvin\nTemp_K = [390.65, 107.52, 225.25, 275.98, 318.18, 88.45]\n\n# Convert the list to a NumPy array\ntemp_array = np.array(Temp_K)\n\n# Conversion factor from Kelvin to Celsius\nkelvin_to_celsius = -273.15\n\n# Convert Kelvin to Celsius\ncelsius_array = temp_array + kelvin_to_celsius\n\n# Print the resulting array of temperatures in Celsius\nprint(\"Temperatures in Celsius:\", celsius_array)\n",
      "metadata": {
        "trusted": true
      },
      "outputs": [
        {
          "name": "stdout",
          "text": "Temperatures in Celsius: [ 117.5  -165.63  -47.9     2.83   45.03 -184.7 ]\n",
          "output_type": "stream"
        }
      ],
      "execution_count": 8
    },
    {
      "cell_type": "code",
      "source": "import pandas as pd\n\n# Create a dictionary with student information\ndata = {\n    \"Student\": [\"Tommy\", \"Fred\", \"Gail\", \"Sahith\", \"Randy\", \"Ariel\"],\n    \"Hair Color\": [\"Brown\", \"Grey\", \"Blonde\", \"Black\", \"Black\", \"Brown\"],\n    \"Eye Color\": [\"Hazel\", \"Green\", \"Blue\", \"Black\", \"Hazel\", \"Blue\"],\n    \"Weight (kg)\": [60, 80, 76, 60, 88, 85]\n}\n\n# Create a DataFrame from the dictionary\ndf = pd.DataFrame(data)\ndf",
      "metadata": {
        "trusted": true
      },
      "outputs": [
        {
          "execution_count": 52,
          "output_type": "execute_result",
          "data": {
            "text/plain": "  Student Hair Color Eye Color  Weight (kg)\n0   Tommy      Brown     Hazel           60\n1    Fred       Grey     Green           80\n2    Gail     Blonde      Blue           76\n3  Sahith      Black     Black           60\n4   Randy      Black     Hazel           88\n5   Ariel      Brown      Blue           85",
            "text/html": "<div>\n<style scoped>\n    .dataframe tbody tr th:only-of-type {\n        vertical-align: middle;\n    }\n\n    .dataframe tbody tr th {\n        vertical-align: top;\n    }\n\n    .dataframe thead th {\n        text-align: right;\n    }\n</style>\n<table border=\"1\" class=\"dataframe\">\n  <thead>\n    <tr style=\"text-align: right;\">\n      <th></th>\n      <th>Student</th>\n      <th>Hair Color</th>\n      <th>Eye Color</th>\n      <th>Weight (kg)</th>\n    </tr>\n  </thead>\n  <tbody>\n    <tr>\n      <th>0</th>\n      <td>Tommy</td>\n      <td>Brown</td>\n      <td>Hazel</td>\n      <td>60</td>\n    </tr>\n    <tr>\n      <th>1</th>\n      <td>Fred</td>\n      <td>Grey</td>\n      <td>Green</td>\n      <td>80</td>\n    </tr>\n    <tr>\n      <th>2</th>\n      <td>Gail</td>\n      <td>Blonde</td>\n      <td>Blue</td>\n      <td>76</td>\n    </tr>\n    <tr>\n      <th>3</th>\n      <td>Sahith</td>\n      <td>Black</td>\n      <td>Black</td>\n      <td>60</td>\n    </tr>\n    <tr>\n      <th>4</th>\n      <td>Randy</td>\n      <td>Black</td>\n      <td>Hazel</td>\n      <td>88</td>\n    </tr>\n    <tr>\n      <th>5</th>\n      <td>Ariel</td>\n      <td>Brown</td>\n      <td>Blue</td>\n      <td>85</td>\n    </tr>\n  </tbody>\n</table>\n</div>"
          },
          "metadata": {}
        }
      ],
      "execution_count": 52
    },
    {
      "cell_type": "code",
      "source": "# Set the index (optional)\ndf = df.set_index(\"Student\") \n# Access a row by student name \nprint(df.loc[\"Sahith\"])  # Access row for student named \"Sahith\"\n\n# Access a specific column by label\nprint(df.loc[:, \"Hair Color\"])  # Access all rows in the \"Hair Color\" column\n",
      "metadata": {
        "trusted": true
      },
      "outputs": [
        {
          "name": "stdout",
          "text": "Hair Color     Black\nEye Color      Black\nWeight (kg)       60\nName: Sahith, dtype: object\nStudent\nTommy      Brown\nFred        Grey\nGail      Blonde\nSahith     Black\nRandy      Black\nAriel      Brown\nName: Hair Color, dtype: object\n",
          "output_type": "stream"
        }
      ],
      "execution_count": 53
    },
    {
      "cell_type": "code",
      "source": "\n# Print the entire DataFrame\nprint(\"Entire DataFrame:\\n\", df)\n",
      "metadata": {
        "trusted": true
      },
      "outputs": [
        {
          "name": "stdout",
          "text": "Entire DataFrame:\n         Hair Color Eye Color  Weight (kg)\nStudent                                  \nTommy        Brown     Hazel           60\nFred          Grey     Green           80\nGail        Blonde      Blue           76\nSahith       Black     Black           60\nRandy        Black     Hazel           88\nAriel        Brown      Blue           85\n",
          "output_type": "stream"
        }
      ],
      "execution_count": 54
    },
    {
      "cell_type": "code",
      "source": "\n# Print hair color column as Series\nprint(\"\\nHair Color:\\n\", df[\"Hair Color\"])\n\n",
      "metadata": {
        "trusted": true
      },
      "outputs": [
        {
          "name": "stdout",
          "text": "\nHair Color:\n Student\nTommy      Brown\nFred        Grey\nGail      Blonde\nSahith     Black\nRandy      Black\nAriel      Brown\nName: Hair Color, dtype: object\n",
          "output_type": "stream"
        }
      ],
      "execution_count": 55
    },
    {
      "cell_type": "code",
      "source": "# Print eye color column as DataFrame (it's already a DataFrame)\nprint(\"\\nEye Color:\\n\", df[[\"Eye Color\"]])",
      "metadata": {
        "trusted": true
      },
      "outputs": [
        {
          "name": "stdout",
          "text": "\nEye Color:\n         Eye Color\nStudent          \nTommy       Hazel\nFred        Green\nGail         Blue\nSahith      Black\nRandy       Hazel\nAriel        Blue\n",
          "output_type": "stream"
        }
      ],
      "execution_count": 56
    },
    {
      "cell_type": "code",
      "source": "# Print DataFrame with student and weight columns\nprint(\"\\nStudent and Weight:\\n\", df[[\"Weight (kg)\"]])",
      "metadata": {
        "trusted": true
      },
      "outputs": [
        {
          "name": "stdout",
          "text": "\nStudent and Weight:\n          Weight (kg)\nStudent             \nTommy             60\nFred              80\nGail              76\nSahith            60\nRandy             88\nAriel             85\n",
          "output_type": "stream"
        }
      ],
      "execution_count": 59
    },
    {
      "cell_type": "code",
      "source": "\n# Print second through fourth observations\nprint(\"\\nObservations 2-4:\\n\", df.iloc[1:4])",
      "metadata": {
        "trusted": true
      },
      "outputs": [
        {
          "name": "stdout",
          "text": "\nObservations 2-4:\n         Hair Color Eye Color  Weight (kg)\nStudent                                  \nFred          Grey     Green           80\nGail        Blonde      Blue           76\nSahith       Black     Black           60\n",
          "output_type": "stream"
        }
      ],
      "execution_count": 60
    },
    {
      "cell_type": "code",
      "source": "",
      "metadata": {
        "trusted": true
      },
      "outputs": [],
      "execution_count": null
    },
    {
      "cell_type": "code",
      "source": "",
      "metadata": {
        "trusted": true
      },
      "outputs": [],
      "execution_count": null
    },
    {
      "cell_type": "code",
      "source": "",
      "metadata": {
        "trusted": true
      },
      "outputs": [],
      "execution_count": null
    }
  ]
}
